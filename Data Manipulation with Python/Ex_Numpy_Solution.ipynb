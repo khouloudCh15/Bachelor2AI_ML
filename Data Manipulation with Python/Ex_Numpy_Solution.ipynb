{
 "cells": [
  {
   "cell_type": "markdown",
   "id": "0c89413a",
   "metadata": {},
   "source": [
    "# Exercise Numpy"
   ]
  },
  {
   "cell_type": "markdown",
   "id": "ca6cd190",
   "metadata": {},
   "source": [
    "### Q1- Create a NumPy array of dtype float (negative and positive numbers) with 4 dimensions and print its shape"
   ]
  },
  {
   "cell_type": "code",
   "execution_count": 9,
   "id": "a2487fdf",
   "metadata": {},
   "outputs": [
    {
     "name": "stdout",
     "output_type": "stream",
     "text": [
      "float64 4 (1, 1, 1, 7)\n",
      "[[[[ 1.   2.  -4.5 -0.6  3.2 -6.3 15.7]]]]\n"
     ]
    }
   ],
   "source": [
    "import numpy as np\n",
    "\n",
    "arr = np.array([1,2,-4.5, -0.6, 3.2, -6.3, 15.7], dtype=float, ndmin=4)\n",
    "print(arr.dtype, arr.ndim, arr.shape)\n",
    "print(arr)"
   ]
  },
  {
   "cell_type": "markdown",
   "id": "45b6829b",
   "metadata": {},
   "source": [
    "### Q2- Apply a filter on this array to discard negative values"
   ]
  },
  {
   "cell_type": "code",
   "execution_count": 10,
   "id": "eb26bff0",
   "metadata": {},
   "outputs": [
    {
     "name": "stdout",
     "output_type": "stream",
     "text": [
      "[ 1.   2.   3.2 15.7]\n"
     ]
    }
   ],
   "source": [
    "arr_p = arr[arr > 0]\n",
    "print(arr_p)"
   ]
  },
  {
   "cell_type": "markdown",
   "id": "a26b6a9f",
   "metadata": {},
   "source": [
    "### Q3- Print the number of elements of the new array"
   ]
  },
  {
   "cell_type": "code",
   "execution_count": 11,
   "id": "1dd800ea",
   "metadata": {},
   "outputs": [
    {
     "name": "stdout",
     "output_type": "stream",
     "text": [
      "4\n"
     ]
    }
   ],
   "source": [
    "print(arr_p.size)"
   ]
  },
  {
   "cell_type": "markdown",
   "id": "b5841284",
   "metadata": {},
   "source": [
    "### Q4- Convert the new array to have integer values (4 bytes)"
   ]
  },
  {
   "cell_type": "code",
   "execution_count": 12,
   "id": "1ee7e5df",
   "metadata": {},
   "outputs": [
    {
     "name": "stdout",
     "output_type": "stream",
     "text": [
      "int32\n"
     ]
    }
   ],
   "source": [
    "arr_n = arr_p.astype('i4')\n",
    "print(arr_n.dtype)"
   ]
  },
  {
   "cell_type": "markdown",
   "id": "cba0e740",
   "metadata": {},
   "source": [
    "### Q5- Make a copy and a view of the new array"
   ]
  },
  {
   "cell_type": "code",
   "execution_count": 13,
   "id": "4dc4bef8",
   "metadata": {},
   "outputs": [
    {
     "name": "stdout",
     "output_type": "stream",
     "text": [
      "None [ 1  2  3 15]\n"
     ]
    }
   ],
   "source": [
    "# a copy\n",
    "arr_c = arr_n.copy()\n",
    "# a view\n",
    "arr_v = arr_n.view()\n",
    "\n",
    "print(arr_c.base, arr_v.base)"
   ]
  },
  {
   "cell_type": "markdown",
   "id": "ab284015",
   "metadata": {},
   "source": [
    "### Q6- Reshape the new array to obtain a matrix"
   ]
  },
  {
   "cell_type": "code",
   "execution_count": 16,
   "id": "bce969aa",
   "metadata": {},
   "outputs": [
    {
     "name": "stdout",
     "output_type": "stream",
     "text": [
      "[[ 1.   2. ]\n",
      " [ 3.2 15.7]]\n"
     ]
    }
   ],
   "source": [
    "arr_m = arr_p.reshape(2,2)\n",
    "print(arr_m)"
   ]
  },
  {
   "cell_type": "markdown",
   "id": "7e28271d",
   "metadata": {},
   "source": [
    "### Q7- Define a custom ufunc that subtracts 3 from the input array"
   ]
  },
  {
   "cell_type": "code",
   "execution_count": 18,
   "id": "fa08703e",
   "metadata": {},
   "outputs": [
    {
     "name": "stdout",
     "output_type": "stream",
     "text": [
      "[[-2.0 -1.0]\n",
      " [0.20000000000000018 12.7]]\n"
     ]
    }
   ],
   "source": [
    "def subtract(arr, value):\n",
    "    return arr - value\n",
    "\n",
    "myfunc = np.frompyfunc(subtract, 2, 1)\n",
    "\n",
    "print(myfunc(arr_m, 3))"
   ]
  }
 ],
 "metadata": {
  "kernelspec": {
   "display_name": "Python 3 (ipykernel)",
   "language": "python",
   "name": "python3"
  },
  "language_info": {
   "codemirror_mode": {
    "name": "ipython",
    "version": 3
   },
   "file_extension": ".py",
   "mimetype": "text/x-python",
   "name": "python",
   "nbconvert_exporter": "python",
   "pygments_lexer": "ipython3",
   "version": "3.9.13"
  }
 },
 "nbformat": 4,
 "nbformat_minor": 5
}
