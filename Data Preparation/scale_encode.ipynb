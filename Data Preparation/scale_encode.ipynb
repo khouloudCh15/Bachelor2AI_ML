{
 "cells": [
  {
   "cell_type": "code",
   "execution_count": null,
   "metadata": {},
   "outputs": [],
   "source": [
    "# Feature scaling : StandardScaler : mean = 0 et std = 1\n",
    "from sklearn.preprocessing import StandardScaler\n",
    "import numpy as np\n",
    "# create a matrix (3x3) with values in [1,10]\n",
    "data = np.random.randint(1, 10, (3, 3))\n",
    "print(data)\n",
    "\n",
    "# build the scaler \n",
    "scaler = \n",
    "\n",
    "# Scaling des variables\n",
    "data_scaled = \n",
    "print(data_scaled)\n",
    "\n",
    "# check if scaled data has mean=0. and std=1.\n"
   ]
  },
  {
   "cell_type": "code",
   "execution_count": null,
   "metadata": {},
   "outputs": [],
   "source": [
    "# Encoding categorical variables using OnehotEncoder\n",
    "\n",
    "\n",
    "data = [[\"ROUGE\"], [\"ROUGE\"], [\"JAUNE\"], [\"VERT\"], [\"JAUNE\"]]\n",
    "#build the encoder\n",
    "encoder = \n",
    "#encode the data\n",
    "data_hot = \n",
    "\n",
    "print(data_hot)\n",
    "print(encoder.categories_)\n"
   ]
  }
 ],
 "metadata": {
  "language_info": {
   "name": "python"
  }
 },
 "nbformat": 4,
 "nbformat_minor": 2
}
