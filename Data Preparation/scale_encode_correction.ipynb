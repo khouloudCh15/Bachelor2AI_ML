{
 "cells": [
  {
   "cell_type": "code",
   "execution_count": null,
   "metadata": {},
   "outputs": [],
   "source": [
    "# Feature scaling : StandardScaler : mean = 0 et std = 1\n",
    "from sklearn.preprocessing import StandardScaler\n",
    "\n",
    "# create a matrix (3x3) with values in [1,10]\n",
    "data = np.random.randint(1, 10, (3, 3))\n",
    "print(data)\n",
    "\n",
    "# build the scaler \n",
    "scaler = StandardScaler().fit(data)\n",
    "print(\"\\nmean\", scaler.mean_)\n",
    "# Scaling des variables\n",
    "data_scaled = scaler.transform(data)\n",
    "print(data_scaled)\n",
    "\n",
    "# scaled data has mean=0. and std=1.\n",
    "print(\"\\nMean:\", data_scaled.mean(), \"Std:\", data_scaled.std())"
   ]
  },
  {
   "cell_type": "code",
   "execution_count": null,
   "metadata": {},
   "outputs": [],
   "source": [
    "# Encoding categorical variables using OnehotEncoder\n",
    "from sklearn.preprocessing import OneHotEncoder\n",
    "\n",
    "data = [[\"ROUGE\"], [\"ROUGE\"], [\"JAUNE\"], [\"VERT\"], [\"JAUNE\"]]\n",
    "encoder = OneHotEncoder().fit(data)\n",
    "data_hot = encoder.transform(data).toarray()\n",
    "\n",
    "print(data_hot)\n",
    "print(encoder.categories_)\n",
    "del data #suppression of data*"
   ]
  }
 ],
 "metadata": {
  "language_info": {
   "name": "python"
  }
 },
 "nbformat": 4,
 "nbformat_minor": 2
}
